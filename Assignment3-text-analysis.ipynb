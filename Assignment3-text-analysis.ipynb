{
 "cells": [
  {
   "cell_type": "markdown",
   "metadata": {},
   "source": [
    "# Assignment 3 - Text Analysis\n",
    "An explanation this assignment could be found in the .pdf explanation document"
   ]
  },
  {
   "cell_type": "markdown",
   "metadata": {},
   "source": [
    "\n",
    "## Materials to review for this assignment\n",
    "<h4>From Moodle:</h4> \n",
    "<h5><u>Review the notebooks regarding the following python topics</u>:</h5>\n",
    "<div class=\"alert alert-info\">\n",
    "&#x2714; <b>Working with strings</b> (tutorial notebook)<br/>\n",
    "&#x2714; <b>Text Analysis</b> (tutorial notebook)<br/>\n",
    "&#x2714; <b>Hebrew text analysis tools (tokenizer, wordnet)</b> (moodle example)<br/>\n",
    "&#x2714; <b>(brief review) All previous notebooks</b><br/>\n",
    "</div> \n",
    "<h5><u>Review the presentations regarding the following topics</u>:</h5>\n",
    "<div class=\"alert alert-info\">\n",
    "&#x2714; <b>Text Analysis</b> (lecture presentation)<br/>\n",
    "&#x2714; <b>(brief review) All other presentations</b><br/>\n",
    "</div>"
   ]
  },
  {
   "cell_type": "markdown",
   "metadata": {},
   "source": [
    "## Personal Details:"
   ]
  },
  {
   "cell_type": "code",
   "execution_count": 1,
   "metadata": {},
   "outputs": [],
   "source": [
    "# Details Student 1:\n",
    "# ID: 336490347\n",
    "# Anton Iosifov\n",
    "\n",
    "# Details Student 2:\n",
    "# ID: 336490271\n",
    "# Valentin Gundorov\n"
   ]
  },
  {
   "cell_type": "markdown",
   "metadata": {},
   "source": [
    "## Preceding Step - import modules (packages)\n",
    "This step is necessary in order to use external modules (packages). <br/>"
   ]
  },
  {
   "cell_type": "code",
   "execution_count": 2,
   "metadata": {},
   "outputs": [],
   "source": [
    "# --------------------------------------\n",
    "import pandas as pd\n",
    "import numpy as np\n",
    "# --------------------------------------\n",
    "\n",
    "\n",
    "# --------------------------------------\n",
    "# ------------- visualizations:\n",
    "import seaborn as sns\n",
    "import matplotlib.pyplot as plt\n",
    "from matplotlib.colors import ListedColormap\n",
    "# --------------------------------------\n",
    "\n",
    "\n",
    "# ---------------------------------------\n",
    "import sklearn\n",
    "from sklearn import preprocessing, metrics, pipeline, model_selection, feature_extraction \n",
    "from sklearn import naive_bayes, linear_model, svm, neural_network, neighbors, tree\n",
    "from sklearn import decomposition, cluster\n",
    "\n",
    "from sklearn.model_selection import train_test_split, cross_val_score, GridSearchCV \n",
    "from sklearn.pipeline import Pipeline\n",
    "from sklearn.metrics import accuracy_score, confusion_matrix\n",
    "from sklearn.metrics import precision_score, recall_score, f1_score\n",
    "from sklearn.metrics import mean_squared_error, r2_score, silhouette_score\n",
    "from sklearn.preprocessing import MinMaxScaler, StandardScaler, LabelEncoder\n",
    "\n",
    "from sklearn.svm import LinearSVC\n",
    "from sklearn.neural_network import MLPClassifier\n",
    "from sklearn.linear_model import Perceptron, SGDClassifier\n",
    "from sklearn.decomposition import PCA\n",
    "from sklearn.cluster import KMeans\n",
    "from sklearn.naive_bayes import MultinomialNB, GaussianNB\n",
    "from sklearn.neighbors import KNeighborsClassifier\n",
    "from sklearn.tree import DecisionTreeClassifier\n",
    "# ---------------------------------------\n",
    "\n",
    "\n",
    "# ----------------- output and visualizations: \n",
    "import warnings\n",
    "from sklearn.exceptions import ConvergenceWarning\n",
    "warnings.simplefilter(\"ignore\")\n",
    "warnings.simplefilter(action='ignore', category=FutureWarning)\n",
    "warnings.simplefilter(\"ignore\", category=ConvergenceWarning)\n",
    "# show several prints in one cell. This will allow us to condence every trick in one cell.\n",
    "from IPython.core.interactiveshell import InteractiveShell\n",
    "InteractiveShell.ast_node_interactivity = \"all\"\n",
    "%matplotlib inline\n",
    "pd.pandas.set_option('display.max_columns', None)\n",
    "pd.set_option('display.float_format', lambda x: '%.3f' % x)\n",
    "# ---------------------------------------"
   ]
  },
  {
   "cell_type": "markdown",
   "metadata": {},
   "source": [
    "### Text analysis and String manipulation imports:"
   ]
  },
  {
   "cell_type": "code",
   "execution_count": 3,
   "metadata": {},
   "outputs": [],
   "source": [
    "# --------------------------------------\n",
    "# --------- Text analysis and Hebrew text analysis imports:\n",
    "# vectorizers:\n",
    "from sklearn.feature_extraction import text\n",
    "from sklearn.feature_extraction.text import CountVectorizer, TfidfVectorizer\n",
    "\n",
    "# regular expressions:\n",
    "import re\n",
    "# --------------------------------------"
   ]
  },
  {
   "cell_type": "markdown",
   "metadata": {},
   "source": [
    "### (optional) Hebrew text analysis - WordNet (for Hebrew)\n",
    "Note: the WordNet is not a must"
   ]
  },
  {
   "cell_type": "markdown",
   "metadata": {},
   "source": [
    "#### (optional) Only if you didn't install Wordnet (for Hebrew) use:"
   ]
  },
  {
   "cell_type": "code",
   "execution_count": 4,
   "metadata": {},
   "outputs": [],
   "source": [
    "# word net installation:\n",
    "\n",
    "# unmark if you want to use and need to install\n",
    "# !pip install wn\n",
    "# !python -m wn download omw-he:1.4"
   ]
  },
  {
   "cell_type": "code",
   "execution_count": 5,
   "metadata": {},
   "outputs": [],
   "source": [
    "# word net import:\n",
    "\n",
    "# unmark if you want to use:\n",
    "# import wn"
   ]
  },
  {
   "cell_type": "markdown",
   "metadata": {},
   "source": [
    "### (optional) Hebrew text analysis - hebrew_tokenizer (Tokenizer for Hebrew)\n",
    "Note: the hebrew_tokenizer is not a must"
   ]
  },
  {
   "cell_type": "markdown",
   "metadata": {},
   "source": [
    "#### (optional) Only if you didn't install hebrew_tokenizer use:"
   ]
  },
  {
   "cell_type": "code",
   "execution_count": 6,
   "metadata": {},
   "outputs": [
    {
     "name": "stdout",
     "output_type": "stream",
     "text": [
      "Collecting hebrew_tokenizer\n",
      "  Downloading hebrew_tokenizer-2.3.0.tar.gz (13 kB)\n",
      "  Preparing metadata (setup.py): started\n",
      "  Preparing metadata (setup.py): finished with status 'done'\n",
      "Building wheels for collected packages: hebrew_tokenizer\n",
      "  Building wheel for hebrew_tokenizer (setup.py): started\n",
      "  Building wheel for hebrew_tokenizer (setup.py): finished with status 'done'\n",
      "  Created wheel for hebrew_tokenizer: filename=hebrew_tokenizer-2.3.0-py3-none-any.whl size=13418 sha256=60d332f93bfb20696e4209bfe2226d5e0128f8e59f700ccdf8d061270cc33c03\n",
      "  Stored in directory: c:\\users\\gundo\\appdata\\local\\pip\\cache\\wheels\\a7\\2f\\af\\95d5eb2e7c291753542d4419e200429a22fb2d74e3f27d7711\n",
      "Successfully built hebrew_tokenizer\n",
      "Installing collected packages: hebrew_tokenizer\n",
      "Successfully installed hebrew_tokenizer-2.3.0\n"
     ]
    }
   ],
   "source": [
    "# Hebrew tokenizer installation:\n",
    "\n",
    "# unmark if you want to use and need to install:\n",
    "!pip install hebrew_tokenizer"
   ]
  },
  {
   "cell_type": "code",
   "execution_count": 7,
   "metadata": {},
   "outputs": [
    {
     "name": "stdout",
     "output_type": "stream",
     "text": [
      "C:\\Users\\gundo\n"
     ]
    }
   ],
   "source": [
    "# Hebrew tokenizer import:\n",
    "\n",
    "# unmark if you want to use:\n",
    "import hebrew_tokenizer as ht"
   ]
  },
  {
   "cell_type": "markdown",
   "metadata": {},
   "source": [
    "### Reading input files\n",
    "Reading input files for train annotated corpus (raw text data) corpus and for the test corpus"
   ]
  },
  {
   "cell_type": "code",
   "execution_count": 8,
   "metadata": {},
   "outputs": [],
   "source": [
    "train_filename = 'annotated_corpus_for_train.csv'\n",
    "test_filename  = 'corpus_for_test.csv'\n",
    "df_train = pd.read_csv(train_filename, index_col=None, encoding='utf-8')\n",
    "df_test  = pd.read_csv(test_filename, index_col=None, encoding='utf-8')"
   ]
  },
  {
   "cell_type": "code",
   "execution_count": 9,
   "metadata": {},
   "outputs": [
    {
     "data": {
      "text/html": [
       "<div>\n",
       "<style scoped>\n",
       "    .dataframe tbody tr th:only-of-type {\n",
       "        vertical-align: middle;\n",
       "    }\n",
       "\n",
       "    .dataframe tbody tr th {\n",
       "        vertical-align: top;\n",
       "    }\n",
       "\n",
       "    .dataframe thead th {\n",
       "        text-align: right;\n",
       "    }\n",
       "</style>\n",
       "<table border=\"1\" class=\"dataframe\">\n",
       "  <thead>\n",
       "    <tr style=\"text-align: right;\">\n",
       "      <th></th>\n",
       "      <th>story</th>\n",
       "      <th>gender</th>\n",
       "    </tr>\n",
       "  </thead>\n",
       "  <tbody>\n",
       "    <tr>\n",
       "      <th>0</th>\n",
       "      <td>כשחבר הזמין אותי לחול, לא באמת חשבתי שזה יקרה,...</td>\n",
       "      <td>m</td>\n",
       "    </tr>\n",
       "    <tr>\n",
       "      <th>1</th>\n",
       "      <td>לפני שהתגייסתי לצבא עשיתי כל מני מיונים ליחידו...</td>\n",
       "      <td>m</td>\n",
       "    </tr>\n",
       "    <tr>\n",
       "      <th>2</th>\n",
       "      <td>מאז שהתחילו הלימודים חלומו של כל סטודנט זה הפנ...</td>\n",
       "      <td>f</td>\n",
       "    </tr>\n",
       "    <tr>\n",
       "      <th>3</th>\n",
       "      <td>כשהייתי ילד, מטוסים היה הדבר שהכי ריתק אותי. ב...</td>\n",
       "      <td>m</td>\n",
       "    </tr>\n",
       "    <tr>\n",
       "      <th>4</th>\n",
       "      <td>‏הייתי מדריכה בכפר נוער ומתאם הכפר היינו צריכי...</td>\n",
       "      <td>f</td>\n",
       "    </tr>\n",
       "    <tr>\n",
       "      <th>5</th>\n",
       "      <td>לפני כ3 חודשים טסתי לרומא למשך שבוע. טסתי במטו...</td>\n",
       "      <td>f</td>\n",
       "    </tr>\n",
       "    <tr>\n",
       "      <th>6</th>\n",
       "      <td>אני כבר שנתיים נשוי והשנה אני ואישתי סוף סוף י...</td>\n",
       "      <td>m</td>\n",
       "    </tr>\n",
       "    <tr>\n",
       "      <th>7</th>\n",
       "      <td>השנה התחלנו שיפוץ בדירה שלנו בתל אביב. הדירה ה...</td>\n",
       "      <td>f</td>\n",
       "    </tr>\n",
       "    <tr>\n",
       "      <th>8</th>\n",
       "      <td>עד לפני כמה חודשים אני הייתי בטוח שכל חיי אהיה...</td>\n",
       "      <td>m</td>\n",
       "    </tr>\n",
       "    <tr>\n",
       "      <th>9</th>\n",
       "      <td>בן זוגי חגג יום הולדת, ורציתי להפתיע אותו ולסג...</td>\n",
       "      <td>f</td>\n",
       "    </tr>\n",
       "    <tr>\n",
       "      <th>10</th>\n",
       "      <td>שקלתי עד לפני שנה, יותר מ100 קילו. הרגשה הייתה...</td>\n",
       "      <td>m</td>\n",
       "    </tr>\n",
       "    <tr>\n",
       "      <th>11</th>\n",
       "      <td>יום אחד חברה שלי ביקשה ממני עזרה. היה לה תור ל...</td>\n",
       "      <td>f</td>\n",
       "    </tr>\n",
       "    <tr>\n",
       "      <th>12</th>\n",
       "      <td>בשנה האחרונה אני בן זוגי רצינו לעבור לדירה משו...</td>\n",
       "      <td>f</td>\n",
       "    </tr>\n",
       "    <tr>\n",
       "      <th>13</th>\n",
       "      <td>עבר עלי חוויה ממש טוב בשנה האחרונה, הרי כולם י...</td>\n",
       "      <td>m</td>\n",
       "    </tr>\n",
       "    <tr>\n",
       "      <th>14</th>\n",
       "      <td>השנה קרו לנו הרבה דברים מיוחדים - סגרים, עבודה...</td>\n",
       "      <td>f</td>\n",
       "    </tr>\n",
       "    <tr>\n",
       "      <th>15</th>\n",
       "      <td>בפעילות לתקופה קצרה עם ילדים קטנים (כיתות א'-ד...</td>\n",
       "      <td>f</td>\n",
       "    </tr>\n",
       "    <tr>\n",
       "      <th>16</th>\n",
       "      <td>בשנה האחרונה סבא עבר ניתוח לא פשוט, לצד מיטתו,...</td>\n",
       "      <td>m</td>\n",
       "    </tr>\n",
       "    <tr>\n",
       "      <th>17</th>\n",
       "      <td>בסוף כיתה ג' המשפחה שלי החליטה לרדת מהארץ לחזו...</td>\n",
       "      <td>m</td>\n",
       "    </tr>\n",
       "    <tr>\n",
       "      <th>18</th>\n",
       "      <td>היתה לי פגישה חד פעמית עם בחורה צעירה בעיר והי...</td>\n",
       "      <td>m</td>\n",
       "    </tr>\n",
       "    <tr>\n",
       "      <th>19</th>\n",
       "      <td>זאת הייתה אחת החוויות היותר טובות שהיו לי עד כ...</td>\n",
       "      <td>m</td>\n",
       "    </tr>\n",
       "  </tbody>\n",
       "</table>\n",
       "</div>"
      ],
      "text/plain": [
       "                                                story gender\n",
       "0   כשחבר הזמין אותי לחול, לא באמת חשבתי שזה יקרה,...      m\n",
       "1   לפני שהתגייסתי לצבא עשיתי כל מני מיונים ליחידו...      m\n",
       "2   מאז שהתחילו הלימודים חלומו של כל סטודנט זה הפנ...      f\n",
       "3   כשהייתי ילד, מטוסים היה הדבר שהכי ריתק אותי. ב...      m\n",
       "4   ‏הייתי מדריכה בכפר נוער ומתאם הכפר היינו צריכי...      f\n",
       "5   לפני כ3 חודשים טסתי לרומא למשך שבוע. טסתי במטו...      f\n",
       "6   אני כבר שנתיים נשוי והשנה אני ואישתי סוף סוף י...      m\n",
       "7   השנה התחלנו שיפוץ בדירה שלנו בתל אביב. הדירה ה...      f\n",
       "8   עד לפני כמה חודשים אני הייתי בטוח שכל חיי אהיה...      m\n",
       "9   בן זוגי חגג יום הולדת, ורציתי להפתיע אותו ולסג...      f\n",
       "10  שקלתי עד לפני שנה, יותר מ100 קילו. הרגשה הייתה...      m\n",
       "11  יום אחד חברה שלי ביקשה ממני עזרה. היה לה תור ל...      f\n",
       "12  בשנה האחרונה אני בן זוגי רצינו לעבור לדירה משו...      f\n",
       "13  עבר עלי חוויה ממש טוב בשנה האחרונה, הרי כולם י...      m\n",
       "14  השנה קרו לנו הרבה דברים מיוחדים - סגרים, עבודה...      f\n",
       "15  בפעילות לתקופה קצרה עם ילדים קטנים (כיתות א'-ד...      f\n",
       "16  בשנה האחרונה סבא עבר ניתוח לא פשוט, לצד מיטתו,...      m\n",
       "17  בסוף כיתה ג' המשפחה שלי החליטה לרדת מהארץ לחזו...      m\n",
       "18  היתה לי פגישה חד פעמית עם בחורה צעירה בעיר והי...      m\n",
       "19  זאת הייתה אחת החוויות היותר טובות שהיו לי עד כ...      m"
      ]
     },
     "execution_count": 9,
     "metadata": {},
     "output_type": "execute_result"
    },
    {
     "data": {
      "text/plain": [
       "(753, 2)"
      ]
     },
     "execution_count": 9,
     "metadata": {},
     "output_type": "execute_result"
    }
   ],
   "source": [
    "df_train.head(20)\n",
    "df_train.shape"
   ]
  },
  {
   "cell_type": "code",
   "execution_count": 10,
   "metadata": {},
   "outputs": [
    {
     "data": {
      "text/html": [
       "<div>\n",
       "<style scoped>\n",
       "    .dataframe tbody tr th:only-of-type {\n",
       "        vertical-align: middle;\n",
       "    }\n",
       "\n",
       "    .dataframe tbody tr th {\n",
       "        vertical-align: top;\n",
       "    }\n",
       "\n",
       "    .dataframe thead th {\n",
       "        text-align: right;\n",
       "    }\n",
       "</style>\n",
       "<table border=\"1\" class=\"dataframe\">\n",
       "  <thead>\n",
       "    <tr style=\"text-align: right;\">\n",
       "      <th></th>\n",
       "      <th>test_example_id</th>\n",
       "      <th>story</th>\n",
       "    </tr>\n",
       "  </thead>\n",
       "  <tbody>\n",
       "    <tr>\n",
       "      <th>0</th>\n",
       "      <td>0</td>\n",
       "      <td>כל קיץ אני והמשפחה נוסעים לארצות הברית לוס אנג...</td>\n",
       "    </tr>\n",
       "    <tr>\n",
       "      <th>1</th>\n",
       "      <td>1</td>\n",
       "      <td>הגעתי לשירות המדינה אחרי שנתיים כפעיל בתנועת \"...</td>\n",
       "    </tr>\n",
       "    <tr>\n",
       "      <th>2</th>\n",
       "      <td>2</td>\n",
       "      <td>אחת האהבות הגדולות שלי אלו הכלבים שלי ושל אישת...</td>\n",
       "    </tr>\n",
       "  </tbody>\n",
       "</table>\n",
       "</div>"
      ],
      "text/plain": [
       "   test_example_id                                              story\n",
       "0                0  כל קיץ אני והמשפחה נוסעים לארצות הברית לוס אנג...\n",
       "1                1  הגעתי לשירות המדינה אחרי שנתיים כפעיל בתנועת \"...\n",
       "2                2  אחת האהבות הגדולות שלי אלו הכלבים שלי ושל אישת..."
      ]
     },
     "execution_count": 10,
     "metadata": {},
     "output_type": "execute_result"
    },
    {
     "data": {
      "text/plain": [
       "(323, 2)"
      ]
     },
     "execution_count": 10,
     "metadata": {},
     "output_type": "execute_result"
    }
   ],
   "source": [
    "df_test.head(3)\n",
    "df_test.shape"
   ]
  },
  {
   "cell_type": "markdown",
   "metadata": {},
   "source": [
    "### Your implementation:\n",
    "Write your code solution in the following code-cells"
   ]
  },
  {
   "cell_type": "code",
   "execution_count": 11,
   "metadata": {},
   "outputs": [],
   "source": [
    "def tokenization(text):\n",
    "    token = ht.tokenize(text)                                      #token = [('Hebrew,aba'), ('English',home), ....]\n",
    "    tokens_list = list(filter(lambda x: (x[0] == 'HEBREW'),token)) #token_list = [('Hebrew',aba), ('Hebrew',ima)....]\n",
    "    tokens_list = [tuple[1] for tuple in tokens_list]              #token_list = [(aba), (ima)....]\n",
    "    return tokens_list                                             #return only hebrew tokens list"
   ]
  },
  {
   "cell_type": "code",
   "execution_count": 12,
   "metadata": {},
   "outputs": [
    {
     "data": {
      "text/plain": [
       "0    כשחבר הזמין אותי לחול, לא באמת חשבתי שזה יקרה,...\n",
       "1    לפני שהתגייסתי לצבא עשיתי כל מני מיונים ליחידו...\n",
       "2    מאז שהתחילו הלימודים חלומו של כל סטודנט זה הפנ...\n",
       "3    כשהייתי ילד, מטוסים היה הדבר שהכי ריתק אותי. ב...\n",
       "4    ‏הייתי מדריכה בכפר נוער ומתאם הכפר היינו צריכי...\n",
       "Name: story, dtype: object"
      ]
     },
     "execution_count": 12,
     "metadata": {},
     "output_type": "execute_result"
    },
    {
     "data": {
      "text/plain": [
       "0     1\n",
       "1     1\n",
       "2     0\n",
       "3     1\n",
       "4     0\n",
       "5     0\n",
       "6     1\n",
       "7     0\n",
       "8     1\n",
       "9     0\n",
       "10    1\n",
       "11    0\n",
       "12    0\n",
       "13    1\n",
       "14    0\n",
       "15    0\n",
       "16    1\n",
       "17    1\n",
       "18    1\n",
       "19    1\n",
       "Name: gender, dtype: int64"
      ]
     },
     "execution_count": 12,
     "metadata": {},
     "output_type": "execute_result"
    }
   ],
   "source": [
    "#----------------------------------Label Encoding-------------------------------------------------------------------------------\n",
    "\n",
    "df_train[\"gender\"] = df_train[\"gender\"].replace({\"m\": 1, \"f\": 0}) #New column 'gender' in df_train, if gender: m = 1, f = 0.\n",
    "\n",
    "X_train = df_train['story']   #Stories\n",
    "y_train = df_train['gender']  #genders\n",
    "X_train.head(5)\n",
    "y_train.head(20)\n"
   ]
  },
  {
   "cell_type": "code",
   "execution_count": 13,
   "metadata": {},
   "outputs": [],
   "source": [
    "#----------------------------------Preprocessing and Feature Extraction---------------------------------------------------------\n",
    "\n",
    "# LogisticRegression\n",
    "SGDClassifier_pipeline = Pipeline([\n",
    "    ('tfidf', TfidfVectorizer(tokenizer = tokenization)),    #Vectorization with TF-IDF method.\n",
    "    ('normalize', preprocessing.Normalizer(norm = 'l2')),    #Normalizing of vectors\n",
    "    ('clf', SGDClassifier(max_iter = 1000, random_state=42)) #text data classification using stochastic gradient descent algorithm\n",
    "])\n",
    "\n",
    "\n",
    "\n",
    "# KNeighborsClassifier\n",
    "knn_pipeline = Pipeline([\n",
    "    ('tfidf', TfidfVectorizer(tokenizer = tokenization)),\n",
    "    ('normalize', preprocessing.Normalizer(norm='l2')),\n",
    "    ('classifier', KNeighborsClassifier())\n",
    "])\n",
    "\n",
    "\n",
    "\n",
    "# Naive bayes\n",
    "NB_pipeline = Pipeline([\n",
    "    ('tfidf', TfidfVectorizer(tokenizer = tokenization)),\n",
    "    ('normalize', preprocessing.Normalizer(norm = 'l2')),\n",
    "    ('clf', MultinomialNB())\n",
    "])\n",
    "\n"
   ]
  },
  {
   "cell_type": "code",
   "execution_count": 14,
   "metadata": {},
   "outputs": [],
   "source": [
    "#----------------------------------Grid Search and Hyperparameter Tuning---------------------------------------------------------\n",
    "# GridSearchCV is used to perform a grid search with 10-fold cross-validation to find the best combination \n",
    "# of hyperparameters that maximize the F1 score on the training data.\n",
    "\n",
    "best_model = None\n",
    "best_f1_score = 0\n",
    "\n",
    "# Definition of parameter grids for each pipeline:\n",
    "\n",
    "SGDClassifier_param_grid = {\n",
    "    'tfidf__max_df': [0.5, 0.75, 1.0],\n",
    "    'clf__alpha': [0.0001, 0.001, 0.01, 0.1],\n",
    "    'clf__penalty': ['l1', 'l2', 'elasticnet'],\n",
    "    'clf__max_iter': [1000, 2000, 3000]\n",
    "}\n",
    "\n",
    "\n",
    "knn_param_grid = {\n",
    "    'tfidf__max_df': [0.5, 0.75, 1.0],\n",
    "    'classifier__n_neighbors': [3, 5, 7, 9],\n",
    "    'classifier__weights': ['uniform', 'distance'],\n",
    "    'classifier__p': [1, 2]\n",
    "}\n",
    "\n",
    "NB_param_grid = {\n",
    "    'tfidf__max_df': [0.5, 0.75, 1.0],\n",
    "    'clf__alpha': [0.0001, 0.001, 0.01, 0.1]\n",
    "}\n",
    "\n",
    "# Define the list of pipelines to evaluate\n",
    "pipelines = [\n",
    "    ('SGDClassifier', SGDClassifier_pipeline, SGDClassifier_param_grid),\n",
    "    ('Naive Bayes', NB_pipeline, NB_param_grid),\n",
    "    ('KNN', knn_pipeline, knn_param_grid)\n",
    "]\n"
   ]
  },
  {
   "cell_type": "code",
   "execution_count": 15,
   "metadata": {},
   "outputs": [
    {
     "name": "stdout",
     "output_type": "stream",
     "text": [
      "Evaluating SGDClassifier...\n"
     ]
    },
    {
     "data": {
      "text/plain": [
       "GridSearchCV(cv=10,\n",
       "             estimator=Pipeline(steps=[('tfidf',\n",
       "                                        TfidfVectorizer(tokenizer=<function tokenization at 0x000001FD2F472DC0>)),\n",
       "                                       ('normalize', Normalizer()),\n",
       "                                       ('clf',\n",
       "                                        SGDClassifier(random_state=42))]),\n",
       "             param_grid={'clf__alpha': [0.0001, 0.001, 0.01, 0.1],\n",
       "                         'clf__max_iter': [1000, 2000, 3000],\n",
       "                         'clf__penalty': ['l1', 'l2', 'elasticnet'],\n",
       "                         'tfidf__max_df': [0.5, 0.75, 1.0]},\n",
       "             scoring='f1_macro')"
      ]
     },
     "execution_count": 15,
     "metadata": {},
     "output_type": "execute_result"
    },
    {
     "name": "stdout",
     "output_type": "stream",
     "text": [
      "Best hyperparameters for SGDClassifier: {'clf__alpha': 0.0001, 'clf__max_iter': 1000, 'clf__penalty': 'l1', 'tfidf__max_df': 0.75}\n",
      "CV score=0.710\n",
      "Evaluating Naive Bayes...\n"
     ]
    },
    {
     "data": {
      "text/plain": [
       "GridSearchCV(cv=10,\n",
       "             estimator=Pipeline(steps=[('tfidf',\n",
       "                                        TfidfVectorizer(tokenizer=<function tokenization at 0x000001FD2F472DC0>)),\n",
       "                                       ('normalize', Normalizer()),\n",
       "                                       ('clf', MultinomialNB())]),\n",
       "             param_grid={'clf__alpha': [0.0001, 0.001, 0.01, 0.1],\n",
       "                         'tfidf__max_df': [0.5, 0.75, 1.0]},\n",
       "             scoring='f1_macro')"
      ]
     },
     "execution_count": 15,
     "metadata": {},
     "output_type": "execute_result"
    },
    {
     "name": "stdout",
     "output_type": "stream",
     "text": [
      "Best hyperparameters for Naive Bayes: {'clf__alpha': 0.01, 'tfidf__max_df': 0.5}\n",
      "CV score=0.508\n",
      "Evaluating KNN...\n"
     ]
    },
    {
     "data": {
      "text/plain": [
       "GridSearchCV(cv=10,\n",
       "             estimator=Pipeline(steps=[('tfidf',\n",
       "                                        TfidfVectorizer(tokenizer=<function tokenization at 0x000001FD2F472DC0>)),\n",
       "                                       ('normalize', Normalizer()),\n",
       "                                       ('classifier', KNeighborsClassifier())]),\n",
       "             param_grid={'classifier__n_neighbors': [3, 5, 7, 9],\n",
       "                         'classifier__p': [1, 2],\n",
       "                         'classifier__weights': ['uniform', 'distance'],\n",
       "                         'tfidf__max_df': [0.5, 0.75, 1.0]},\n",
       "             scoring='f1_macro')"
      ]
     },
     "execution_count": 15,
     "metadata": {},
     "output_type": "execute_result"
    },
    {
     "name": "stdout",
     "output_type": "stream",
     "text": [
      "Best hyperparameters for KNN: {'classifier__n_neighbors': 5, 'classifier__p': 2, 'classifier__weights': 'distance', 'tfidf__max_df': 1.0}\n",
      "CV score=0.608\n",
      "Best model: SGDClassifier with F1: 0.710115679911672.\n"
     ]
    }
   ],
   "source": [
    "# Best Model Selection\n",
    "# The best model with the highest cross-validation F1 score is selected and stored in the best_model variable.\n",
    "\n",
    "# Loop over the pipelines and perform grid search with cross-validation\n",
    "for name, pipeline, parameter_grid in pipelines:\n",
    "    print(f\"Evaluating {name}...\")\n",
    "    grid_search = GridSearchCV(pipeline, parameter_grid, cv=10, scoring='f1_macro')\n",
    "    grid_search.fit(X_train, y_train)\n",
    "    print(f\"Best hyperparameters for {name}: {grid_search.best_params_}\")\n",
    "    print(\"CV score=%0.3f\" % grid_search.best_score_)\n",
    "    if grid_search.best_score_ > best_f1_score:\n",
    "        best_f1_score = grid_search.best_score_\n",
    "        best_model_name = name\n",
    "        best_model = grid_search.best_estimator_\n",
    "\n",
    "# Print the best model's name and F1 score\n",
    "print(f\"Best model: {best_model_name} with F1: {best_f1_score}.\")"
   ]
  },
  {
   "cell_type": "code",
   "execution_count": 16,
   "metadata": {},
   "outputs": [
    {
     "data": {
      "text/plain": [
       "GridSearchCV(cv=10,\n",
       "             estimator=Pipeline(steps=[('tfidf',\n",
       "                                        TfidfVectorizer(max_df=0.65,\n",
       "                                                        ngram_range=(1, 2),\n",
       "                                                        tokenizer=<function tokenization at 0x000001FD2F472DC0>)),\n",
       "                                       ('normalize', Normalizer()),\n",
       "                                       ('clf',\n",
       "                                        SGDClassifier(random_state=42))]),\n",
       "             param_grid={'clf__alpha': [0.0001, 0.001, 0.01, 0.1],\n",
       "                         'clf__loss': ['hinge', 'log'],\n",
       "                         'clf__max_iter': [30, 40, 50],\n",
       "                         'clf__penalty': ['l1', 'l2', 'elasticnet'],\n",
       "                         'clf__validation_fraction': [0.1, 0.2],\n",
       "                         'tfidf__max_df': [0.5, 0.75, 1.0]},\n",
       "             scoring='f1_macro')"
      ]
     },
     "execution_count": 16,
     "metadata": {},
     "output_type": "execute_result"
    },
    {
     "name": "stdout",
     "output_type": "stream",
     "text": [
      "Best hyperparameters: {'clf__alpha': 0.0001, 'clf__loss': 'hinge', 'clf__max_iter': 30, 'clf__penalty': 'l1', 'clf__validation_fraction': 0.1, 'tfidf__max_df': 1.0}\n",
      "Cross-validation F1 score: 0.7242193823141414\n"
     ]
    }
   ],
   "source": [
    "#----------------------------------Model improvement----------------------------------------------------------------------------\n",
    "# The code then refines the hyperparameters for the SGDClassifier model using another round of grid search, \n",
    "# aiming to find the best possible hyperparameters for the chosen model.\n",
    "\n",
    "SGDClassifier_pipeline = Pipeline([\n",
    "    ('tfidf', TfidfVectorizer(tokenizer = tokenization,max_df=0.65,ngram_range=(1,2))),\n",
    "    ('normalize', preprocessing.Normalizer(norm='l2')),\n",
    "    ('clf', SGDClassifier(random_state=42))\n",
    "])\n",
    "\n",
    "# Set up the parameter grid\n",
    "SGDClassifier_param_grid = {\n",
    "    'tfidf__max_df': [0.5, 0.75, 1.0],\n",
    "    'clf__alpha': [0.0001, 0.001, 0.01, 0.1],\n",
    "    'clf__penalty': ['l1', 'l2', 'elasticnet'],\n",
    "    'clf__max_iter': [30, 40, 50],\n",
    "    'clf__loss': ['hinge', 'log'],\n",
    "    'clf__validation_fraction': [0.1, 0.2]\n",
    "}\n",
    "\n",
    "# Perform grid search\n",
    "grid_search = GridSearchCV(SGDClassifier_pipeline, SGDClassifier_param_grid, cv=10, scoring='f1_macro')\n",
    "grid_search.fit(X_train, y_train)\n",
    "\n",
    "#----------------------------------Best hyperparameters and cross-validation score----------------------------------------------------------------\n",
    "\n",
    "print(\"Best hyperparameters:\", grid_search.best_params_)\n",
    "print(\"Cross-validation F1 score:\", grid_search.best_score_)\n"
   ]
  },
  {
   "cell_type": "code",
   "execution_count": 17,
   "metadata": {},
   "outputs": [],
   "source": [
    "best_parameters = {\n",
    "    'tfidf__max_df': 0.75,\n",
    "    'clf__alpha': 0.0001,\n",
    "    'clf__penalty': 'l1',\n",
    "    'clf__max_iter': 30,\n",
    "    'clf__loss': 'hinge',\n",
    "    'clf__validation_fraction': 0.1\n",
    "}"
   ]
  },
  {
   "cell_type": "code",
   "execution_count": 18,
   "metadata": {},
   "outputs": [
    {
     "data": {
      "text/plain": [
       "Pipeline(steps=[('tfidf',\n",
       "                 TfidfVectorizer(max_df=0.75, ngram_range=(1, 2),\n",
       "                                 tokenizer=<function tokenization at 0x000001FD2F472DC0>)),\n",
       "                ('normalize', Normalizer()),\n",
       "                ('clf',\n",
       "                 SGDClassifier(max_iter=30, penalty='l1', random_state=42))])"
      ]
     },
     "execution_count": 18,
     "metadata": {},
     "output_type": "execute_result"
    },
    {
     "name": "stdout",
     "output_type": "stream",
     "text": [
      "F1 score for the best selected model: 0.7199367968560483\n"
     ]
    }
   ],
   "source": [
    "#---------------------------------Vectorization with TFidf-----------------------------------------------------------------------------------------\n",
    "\n",
    "best_model_tfidf = Pipeline([\n",
    "    ('tfidf', TfidfVectorizer(tokenizer = tokenization, max_df = best_parameters['tfidf__max_df'], ngram_range=(1, 2))),\n",
    "    ('normalize', preprocessing.Normalizer(norm='l2')),\n",
    "    ('clf', SGDClassifier(random_state=42, alpha=best_parameters['clf__alpha'], penalty=best_parameters['clf__penalty'], \n",
    "            max_iter=best_parameters['clf__max_iter'], loss=best_parameters['clf__loss'],\n",
    "            validation_fraction=best_parameters['clf__validation_fraction']))\n",
    "])\n",
    "\n",
    "\n",
    "best_model_tfidf.fit(X_train, y_train)\n",
    "\n",
    "f1_scores = cross_val_score(best_model_tfidf, X_train, y_train, cv=10, scoring='f1_macro')\n",
    "avg_f1_score = np.mean(f1_scores)\n",
    "print(\"F1 score for the best selected model:\", avg_f1_score)   #F1 average(model quality check)"
   ]
  },
  {
   "cell_type": "code",
   "execution_count": 19,
   "metadata": {},
   "outputs": [
    {
     "data": {
      "text/plain": [
       "Pipeline(steps=[('tfidf',\n",
       "                 CountVectorizer(max_df=0.65, ngram_range=(1, 2),\n",
       "                                 tokenizer=<function tokenization at 0x000001FD2F472DC0>)),\n",
       "                ('normalize', Normalizer()),\n",
       "                ('clf',\n",
       "                 SGDClassifier(eta0=1, max_iter=22, n_iter_no_change=6,\n",
       "                               penalty='l1', random_state=42))])"
      ]
     },
     "execution_count": 19,
     "metadata": {},
     "output_type": "execute_result"
    },
    {
     "name": "stdout",
     "output_type": "stream",
     "text": [
      "Average F1 score: 0.6863719138696902\n"
     ]
    }
   ],
   "source": [
    "#----------------------------------Vectorization with countvectorizer---------------------------------------------------------------------\n",
    "\n",
    "best_model_countvectorizer = Pipeline([ ('tfidf', CountVectorizer(tokenizer = tokenization,max_df=0.65, ngram_range=(1, 2))),\n",
    "                                        ('normalize', preprocessing.Normalizer(norm='l2')),\n",
    "                                        ('clf', SGDClassifier(max_iter=22, random_state=42, alpha=0.0001, penalty='l1', loss='hinge',learning_rate='optimal', eta0=1, validation_fraction=0.1, n_iter_no_change=6)) ])\n",
    "\n",
    "best_model_countvectorizer.fit(X_train, y_train)\n",
    "\n",
    "f1_scores = cross_val_score(best_model_countvectorizer, X_train, y_train, cv=10, scoring='f1_macro')\n",
    "avg_f1_score = np.mean(f1_scores)\n",
    "print(\"Average F1 score:\", avg_f1_score) #F1 average(model quality check)"
   ]
  },
  {
   "cell_type": "code",
   "execution_count": 20,
   "metadata": {},
   "outputs": [
    {
     "data": {
      "text/html": [
       "<div>\n",
       "<style scoped>\n",
       "    .dataframe tbody tr th:only-of-type {\n",
       "        vertical-align: middle;\n",
       "    }\n",
       "\n",
       "    .dataframe tbody tr th {\n",
       "        vertical-align: top;\n",
       "    }\n",
       "\n",
       "    .dataframe thead th {\n",
       "        text-align: right;\n",
       "    }\n",
       "</style>\n",
       "<table border=\"1\" class=\"dataframe\">\n",
       "  <thead>\n",
       "    <tr style=\"text-align: right;\">\n",
       "      <th></th>\n",
       "      <th>test_example_id</th>\n",
       "      <th>predicted_category</th>\n",
       "    </tr>\n",
       "  </thead>\n",
       "  <tbody>\n",
       "  </tbody>\n",
       "</table>\n",
       "</div>"
      ],
      "text/plain": [
       "Empty DataFrame\n",
       "Columns: [test_example_id, predicted_category]\n",
       "Index: []"
      ]
     },
     "execution_count": 20,
     "metadata": {},
     "output_type": "execute_result"
    },
    {
     "data": {
      "text/html": [
       "<div>\n",
       "<style scoped>\n",
       "    .dataframe tbody tr th:only-of-type {\n",
       "        vertical-align: middle;\n",
       "    }\n",
       "\n",
       "    .dataframe tbody tr th {\n",
       "        vertical-align: top;\n",
       "    }\n",
       "\n",
       "    .dataframe thead th {\n",
       "        text-align: right;\n",
       "    }\n",
       "</style>\n",
       "<table border=\"1\" class=\"dataframe\">\n",
       "  <thead>\n",
       "    <tr style=\"text-align: right;\">\n",
       "      <th></th>\n",
       "      <th>test_example_id</th>\n",
       "      <th>predicted_category</th>\n",
       "    </tr>\n",
       "  </thead>\n",
       "  <tbody>\n",
       "    <tr>\n",
       "      <th>0</th>\n",
       "      <td>0</td>\n",
       "      <td>m</td>\n",
       "    </tr>\n",
       "    <tr>\n",
       "      <th>1</th>\n",
       "      <td>1</td>\n",
       "      <td>m</td>\n",
       "    </tr>\n",
       "    <tr>\n",
       "      <th>2</th>\n",
       "      <td>2</td>\n",
       "      <td>m</td>\n",
       "    </tr>\n",
       "    <tr>\n",
       "      <th>3</th>\n",
       "      <td>3</td>\n",
       "      <td>m</td>\n",
       "    </tr>\n",
       "    <tr>\n",
       "      <th>4</th>\n",
       "      <td>4</td>\n",
       "      <td>f</td>\n",
       "    </tr>\n",
       "    <tr>\n",
       "      <th>5</th>\n",
       "      <td>5</td>\n",
       "      <td>m</td>\n",
       "    </tr>\n",
       "    <tr>\n",
       "      <th>6</th>\n",
       "      <td>6</td>\n",
       "      <td>m</td>\n",
       "    </tr>\n",
       "    <tr>\n",
       "      <th>7</th>\n",
       "      <td>7</td>\n",
       "      <td>f</td>\n",
       "    </tr>\n",
       "    <tr>\n",
       "      <th>8</th>\n",
       "      <td>8</td>\n",
       "      <td>m</td>\n",
       "    </tr>\n",
       "    <tr>\n",
       "      <th>9</th>\n",
       "      <td>9</td>\n",
       "      <td>m</td>\n",
       "    </tr>\n",
       "    <tr>\n",
       "      <th>10</th>\n",
       "      <td>10</td>\n",
       "      <td>f</td>\n",
       "    </tr>\n",
       "    <tr>\n",
       "      <th>11</th>\n",
       "      <td>11</td>\n",
       "      <td>m</td>\n",
       "    </tr>\n",
       "    <tr>\n",
       "      <th>12</th>\n",
       "      <td>12</td>\n",
       "      <td>f</td>\n",
       "    </tr>\n",
       "    <tr>\n",
       "      <th>13</th>\n",
       "      <td>13</td>\n",
       "      <td>m</td>\n",
       "    </tr>\n",
       "    <tr>\n",
       "      <th>14</th>\n",
       "      <td>14</td>\n",
       "      <td>f</td>\n",
       "    </tr>\n",
       "    <tr>\n",
       "      <th>15</th>\n",
       "      <td>15</td>\n",
       "      <td>m</td>\n",
       "    </tr>\n",
       "    <tr>\n",
       "      <th>16</th>\n",
       "      <td>16</td>\n",
       "      <td>m</td>\n",
       "    </tr>\n",
       "    <tr>\n",
       "      <th>17</th>\n",
       "      <td>17</td>\n",
       "      <td>m</td>\n",
       "    </tr>\n",
       "    <tr>\n",
       "      <th>18</th>\n",
       "      <td>18</td>\n",
       "      <td>m</td>\n",
       "    </tr>\n",
       "    <tr>\n",
       "      <th>19</th>\n",
       "      <td>19</td>\n",
       "      <td>m</td>\n",
       "    </tr>\n",
       "  </tbody>\n",
       "</table>\n",
       "</div>"
      ],
      "text/plain": [
       "    test_example_id predicted_category\n",
       "0                 0                  m\n",
       "1                 1                  m\n",
       "2                 2                  m\n",
       "3                 3                  m\n",
       "4                 4                  f\n",
       "5                 5                  m\n",
       "6                 6                  m\n",
       "7                 7                  f\n",
       "8                 8                  m\n",
       "9                 9                  m\n",
       "10               10                  f\n",
       "11               11                  m\n",
       "12               12                  f\n",
       "13               13                  m\n",
       "14               14                  f\n",
       "15               15                  m\n",
       "16               16                  m\n",
       "17               17                  m\n",
       "18               18                  m\n",
       "19               19                  m"
      ]
     },
     "execution_count": 20,
     "metadata": {},
     "output_type": "execute_result"
    }
   ],
   "source": [
    "#----------------------------------Prediction-----------------------------------------------------------------------------------\n",
    "\n",
    "df_predicted = pd.DataFrame(columns = ['test_example_id','predicted_category'])\n",
    "df_predicted\n",
    "\n",
    "y_pred = best_model_tfidf.predict(df_test[\"story\"])\n",
    "df_predicted['test_example_id'] = df_test['test_example_id']\n",
    "df_predicted['predicted_category'] = np.where(y_pred == 1, 'm', 'f')\n",
    "df_predicted.head(20)"
   ]
  },
  {
   "cell_type": "markdown",
   "metadata": {},
   "source": [
    "### Save output to csv (optional)\n",
    "After you're done save your output to the 'classification_results.csv' csv file.<br/>\n",
    "We assume that the dataframe with your results contain the following columns:\n",
    "* column 1 (left column): 'test_example_id'  - the same id associated to each of the test stories to be predicted.\n",
    "* column 2 (right column): 'predicted_category' - the predicted gender value for each of the associated story. \n",
    "\n",
    "Assuming your predicted values are in the `df_predicted` dataframe, you should save you're results as following:"
   ]
  },
  {
   "cell_type": "code",
   "execution_count": 21,
   "metadata": {},
   "outputs": [],
   "source": [
    "df_predicted.to_csv('classification_results.csv',index=False)"
   ]
  },
  {
   "cell_type": "code",
   "execution_count": null,
   "metadata": {},
   "outputs": [],
   "source": []
  }
 ],
 "metadata": {
  "celltoolbar": "Create Assignment",
  "kernelspec": {
   "display_name": "Python 3 (ipykernel)",
   "language": "python",
   "name": "python3"
  },
  "language_info": {
   "codemirror_mode": {
    "name": "ipython",
    "version": 3
   },
   "file_extension": ".py",
   "mimetype": "text/x-python",
   "name": "python",
   "nbconvert_exporter": "python",
   "pygments_lexer": "ipython3",
   "version": "3.9.13"
  }
 },
 "nbformat": 4,
 "nbformat_minor": 4
}
